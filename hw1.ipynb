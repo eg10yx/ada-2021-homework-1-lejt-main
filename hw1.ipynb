{
 "cells": [
  {
   "cell_type": "markdown",
   "metadata": {},
   "source": [
    "# Homework 1 (HW1)\n",
    "\n",
    "---\n",
    "By the end of this homework we expect you to be able to:\n",
    "1. Load data from different formats using [pandas](https://pandas.pydata.org/);\n",
    "2. Navigate the documentation of Python packages by yourself;\n",
    "3. Filter and tidy up noisy data sets;\n",
    "4. Aggregate your data in different (and hopefully helpful) ways; \n",
    "5. Create meaningful visualizations to analyze the data;\n",
    "6. Critically think and write about data;\n",
    "---\n",
    "\n",
    "## Important Dates\n",
    "\n",
    "- Homework release: Fri 8 Oct 2021\n",
    "- **Homework due**: Fri 22 Oct 2021, 23:59\n",
    "- Grade release: Fri 29 Oct 2021\n",
    "\n",
    "---\n",
    "\n",
    "##  Some rules\n",
    "\n",
    "1. You are allowed to use any built-in Python library that comes with Anaconda. If you want to use an external library, \n",
    "you may do so, but must justify your choice.\n",
    "2. Make sure you use the `data` folder provided in the repository in read-only mode. (Or alternatively, be sure you \n",
    "don’t change any of the files.)\n",
    "3. Be sure to provide a textual description of your thought process, the assumptions you made, the solution you \n",
    "implemented, and explanations for your answers. A notebook that only has code cells will not suffice.\n",
    "4. For questions containing the **/Discuss:/** prefix, answer not with code, but with a textual explanation\n",
    " (**in markdown**).\n",
    "5. Back up any hypotheses and claims with data, since this is an important aspect of the course.\n",
    "6. Please write all your comments in English, and use meaningful variable names in your code. Your repo should have a \n",
    "single notebook (plus the required data files) in the *master/main* branch. If there are multiple notebooks present, \n",
    "we will **not grade** anything.\n",
    "7. We will **not run your notebook for you**! Rather, we will grade it as is, which means that only the results \n",
    "contained in your evaluated code cells will be considered, and we will not see the results in unevaluated code cells. \n",
    "Thus, be sure to hand in a **fully-run and evaluated notebook**. In order to check whether everything looks as intended,\n",
    " you can check the rendered notebook on the GitHub website once you have pushed your solution there.\n",
    "8. In continuation to the previous point, interactive plots, such as those generated using `plotly`, should be \n",
    "**strictly avoided**!\n",
    "9. Make sure to print results or dataframes that confirm you have properly addressed the task.\n",
    "\n",
    "---\n",
    "\n",
    "## Context\n",
    "\n",
    "In this project, we are going to analyze data from an experiment about *honesty*. \n",
    "Oftentimes, we are asked to confirm our honest intentions by signing **at the end** of a document. \n",
    "For example, in tax returns or insurance policy forms, we are often asked to sign our names under a text that reads \n",
    "something like \"I hereby certify that the above statements are true and correct to the best of my knowledge.\"\n",
    "\n",
    "However, when individuals sign **after** lying in the form, they may not feel the need to correct the falsehoods they \n",
    "have reported. In that context, it could be that signing at **the beginning** rather than at the end of the document \n",
    "would decrease dishonesty, as those who are filling the form would be aware of the ethical requirements *before* they \n",
    "provide the information in the form.\n",
    "\n",
    "This intuition has led researchers to partner up with a motorcycle insurance company to run a randomized experiment. \n",
    "In this insurance company (as well as in many others), customers had to report the exact *odometer kilometrage*¹ in \n",
    "order for the company to adjust the insurance premiums. Note that motorcycles with lower kilometrage are less likely to \n",
    "have issues, and thus will result in a lower *insurance premium*². Therefore, customers have an incentive to lie, \n",
    "reporting a kilometrage lower than the real value, in order to save money.\n",
    "\n",
    "In the experiment, two different forms were created: one where the signing was done at the end, and another where the \n",
    "signing was done at the beginning. The insurance company then randomized these forms (i.e., each customer received\n",
    " exactly one form, each with probability 50%) and sent back the data that customers had provided. Some noteworthy \n",
    " details on the experiment are that:\n",
    "\n",
    "- All customers involved in the experiment already had a contract with the company and were simply renewing it. \n",
    "In the data that the company provided, they also report the odometer kilometrage for their previous contract.\n",
    "Each policy, therefore, contains two contracts: the \"updated\" contract —where the experiment was conducted— and \n",
    "the \"baseline\" contract, which was the previous contract customers had with the company.\n",
    "- A single insurance policy can insure up to 4 distinct motorcycles.\n",
    "\n",
    "In this assignment, you will take the role of the researcher and work analyzing this data!\n",
    "\n",
    "*Glossary:*\n",
    "1. **odometer kilometrage:** the total distance the motorcycle has traveled.\n",
    "2. **insurance premiums:** the amount of money one pays for an insurance policy.\n",
    "\n",
    "---\n",
    "\n",
    "## The data\n",
    "\n",
    "The company provided you with a compressed `.tsv` file containing one row per policy. \n",
    "The `.tsv` has the following fields:\n",
    "\n",
    "- `condition`: either `Sign Top` or `Sign Bottom`, depending on which form was sent.\n",
    "- `id`: unique identifier for each insurance policy.\n",
    "- `motorcycle_count`: number of motorcycles covered by the insurance policy.\n",
    "- `baseline_motorcycle[1-4]`: odometer kilometrage *reported by the customer* in the *previous (baseline)* contract. \n",
    "- `update_motorcycle[1-4]`: odometer kilometrage *reported by the customer* in the *current (updated)* contract.\n",
    "\n",
    "Some comments:\n",
    "\n",
    "- Recall that a single policy can ensure up to 4 motorcycles, and thus, the suffixes [1-4] indicate that there are 4 \n",
    "versions of these columns in the data (e.g., `baseline_motorcycle1`, `baseline_motorcycle2`, `baseline_motorcycle3`, \n",
    "`baseline_motorcycle4`). \n",
    "- When a policy has fewer than 4 motorcycles, only the columns with the smaller numerals are filled (e.g., if a policy \n",
    "insures one motorcycle,  only `baseline_motorcycle1` and `update_motorcycle1` will be filled).\n",
    "- Note that we only have access to the odometer kilometrage reported by the customers, \n",
    "which may be different from the real kilometrage of the motorcycles."
   ]
  },
  {
   "cell_type": "code",
   "execution_count": 548,
   "metadata": {},
   "outputs": [],
   "source": [
    "# Imports you may need\n",
    "import seaborn as sns\n",
    "from IPython.display import display, HTML\n",
    "import matplotlib.pyplot as plt\n",
    "import scipy.stats as stats\n",
    "import pandas as pd\n",
    "import numpy as np"
   ]
  },
  {
   "cell_type": "markdown",
   "metadata": {},
   "source": [
    "### **Task 1** — 4pts\n",
    "\n",
    "Your first task is to load the dataset into memory using pandas. \n",
    "**You should load the data directly from the compressed files.**\n",
    "\n",
    "Here, the files at hand are rather small, and you could easily uncompress the files to disk and work with them as plain \n",
    "text. Why, then, are we asking you to load the files compressed? The reason is that, in your life as a data scientist, \n",
    "this will often not be the case. Then, working with compressed files is key so that you don't receive email from your \n",
    "(often more responsible) colleagues demanding to know how you have managed to fill the entire cluster with your \n",
    "datasets. Another big advantage of compressing files is to simply read files faster. You will often find that reading\n",
    "compressed data on the fly (uncompressing it as you go), is much faster than reading uncompressed data, since reading\n",
    "and writing to disk may be your [bottleneck](https://skipperkongen.dk/2012/02/28/uncompressed-versus-compressed-read/). \n",
    "\n",
    "---\n",
    "\n",
    "**Hint:** `pandas` can open compressed files.\n",
    "\n",
    "**Hint:** In the real world (and in ADA-homework), your file often comes with some weird lines! \n",
    "This time you can safely ignore them (but in the real world you must try to understand why they are there!). \n",
    "Check the `error_bad_lines` or the `on_bad_lines` (depending on your pandas version) parameter on `read_csv`."
   ]
  },
  {
   "cell_type": "code",
   "execution_count": 549,
   "metadata": {},
   "outputs": [],
   "source": [
    "DATA_FOLDER = 'data/'\n",
    "\n",
    "POLICIES_DATASET = DATA_FOLDER+\"data.tsv.gz\"\n",
    "FONTS_DATASET = DATA_FOLDER+\"fonts.csv\""
   ]
  },
  {
   "cell_type": "code",
   "execution_count": 550,
   "metadata": {},
   "outputs": [
    {
     "data": {
      "text/html": [
       "<div>\n",
       "<style scoped>\n",
       "    .dataframe tbody tr th:only-of-type {\n",
       "        vertical-align: middle;\n",
       "    }\n",
       "\n",
       "    .dataframe tbody tr th {\n",
       "        vertical-align: top;\n",
       "    }\n",
       "\n",
       "    .dataframe thead th {\n",
       "        text-align: right;\n",
       "    }\n",
       "</style>\n",
       "<table border=\"1\" class=\"dataframe\">\n",
       "  <thead>\n",
       "    <tr style=\"text-align: right;\">\n",
       "      <th></th>\n",
       "      <th>condition</th>\n",
       "      <th>id</th>\n",
       "      <th>baseline_motorcycle1</th>\n",
       "      <th>update_motorcycle1</th>\n",
       "      <th>baseline_motorcycle2</th>\n",
       "      <th>update_motorcycle2</th>\n",
       "      <th>baseline_motorcycle3</th>\n",
       "      <th>update_motorcycle3</th>\n",
       "      <th>baseline_motorcycle4</th>\n",
       "      <th>update_motorcycle4</th>\n",
       "      <th>motorcycle_count</th>\n",
       "    </tr>\n",
       "  </thead>\n",
       "  <tbody>\n",
       "    <tr>\n",
       "      <th>0</th>\n",
       "      <td>Sign Top</td>\n",
       "      <td>1</td>\n",
       "      <td>896</td>\n",
       "      <td>39198</td>\n",
       "      <td>NaN</td>\n",
       "      <td>NaN</td>\n",
       "      <td>NaN</td>\n",
       "      <td>NaN</td>\n",
       "      <td>NaN</td>\n",
       "      <td>NaN</td>\n",
       "      <td>1</td>\n",
       "    </tr>\n",
       "    <tr>\n",
       "      <th>1</th>\n",
       "      <td>Sign Bottom</td>\n",
       "      <td>2</td>\n",
       "      <td>21396</td>\n",
       "      <td>63511</td>\n",
       "      <td>32659.0</td>\n",
       "      <td>47605.0</td>\n",
       "      <td>NaN</td>\n",
       "      <td>NaN</td>\n",
       "      <td>NaN</td>\n",
       "      <td>NaN</td>\n",
       "      <td>2</td>\n",
       "    </tr>\n",
       "    <tr>\n",
       "      <th>2</th>\n",
       "      <td>Sign Bottom</td>\n",
       "      <td>3</td>\n",
       "      <td>21340</td>\n",
       "      <td>37460</td>\n",
       "      <td>44998.0</td>\n",
       "      <td>59002.0</td>\n",
       "      <td>NaN</td>\n",
       "      <td>NaN</td>\n",
       "      <td>NaN</td>\n",
       "      <td>NaN</td>\n",
       "      <td>2</td>\n",
       "    </tr>\n",
       "    <tr>\n",
       "      <th>3</th>\n",
       "      <td>Sign Bottom</td>\n",
       "      <td>4</td>\n",
       "      <td>23912</td>\n",
       "      <td>59136</td>\n",
       "      <td>NaN</td>\n",
       "      <td>NaN</td>\n",
       "      <td>NaN</td>\n",
       "      <td>NaN</td>\n",
       "      <td>NaN</td>\n",
       "      <td>NaN</td>\n",
       "      <td>1</td>\n",
       "    </tr>\n",
       "    <tr>\n",
       "      <th>4</th>\n",
       "      <td>Sign Bottom</td>\n",
       "      <td>5</td>\n",
       "      <td>16862</td>\n",
       "      <td>59292</td>\n",
       "      <td>NaN</td>\n",
       "      <td>NaN</td>\n",
       "      <td>NaN</td>\n",
       "      <td>NaN</td>\n",
       "      <td>NaN</td>\n",
       "      <td>NaN</td>\n",
       "      <td>1</td>\n",
       "    </tr>\n",
       "  </tbody>\n",
       "</table>\n",
       "</div>"
      ],
      "text/plain": [
       "     condition  id  baseline_motorcycle1  update_motorcycle1  \\\n",
       "0     Sign Top   1                   896               39198   \n",
       "1  Sign Bottom   2                 21396               63511   \n",
       "2  Sign Bottom   3                 21340               37460   \n",
       "3  Sign Bottom   4                 23912               59136   \n",
       "4  Sign Bottom   5                 16862               59292   \n",
       "\n",
       "   baseline_motorcycle2  update_motorcycle2  baseline_motorcycle3  \\\n",
       "0                   NaN                 NaN                   NaN   \n",
       "1               32659.0             47605.0                   NaN   \n",
       "2               44998.0             59002.0                   NaN   \n",
       "3                   NaN                 NaN                   NaN   \n",
       "4                   NaN                 NaN                   NaN   \n",
       "\n",
       "   update_motorcycle3  baseline_motorcycle4  update_motorcycle4  \\\n",
       "0                 NaN                   NaN                 NaN   \n",
       "1                 NaN                   NaN                 NaN   \n",
       "2                 NaN                   NaN                 NaN   \n",
       "3                 NaN                   NaN                 NaN   \n",
       "4                 NaN                   NaN                 NaN   \n",
       "\n",
       "   motorcycle_count  \n",
       "0                 1  \n",
       "1                 2  \n",
       "2                 2  \n",
       "3                 1  \n",
       "4                 1  "
      ]
     },
     "execution_count": 550,
     "metadata": {},
     "output_type": "execute_result"
    }
   ],
   "source": [
    "policies = pd.read_csv(POLICIES_DATASET, sep='\\t', compression = 'gzip', on_bad_lines = 'skip')\n",
    "policies.head()\n"
   ]
  },
  {
   "cell_type": "code",
   "execution_count": 551,
   "metadata": {},
   "outputs": [
    {
     "data": {
      "text/html": [
       "<div>\n",
       "<style scoped>\n",
       "    .dataframe tbody tr th:only-of-type {\n",
       "        vertical-align: middle;\n",
       "    }\n",
       "\n",
       "    .dataframe tbody tr th {\n",
       "        vertical-align: top;\n",
       "    }\n",
       "\n",
       "    .dataframe thead th {\n",
       "        text-align: right;\n",
       "    }\n",
       "</style>\n",
       "<table border=\"1\" class=\"dataframe\">\n",
       "  <thead>\n",
       "    <tr style=\"text-align: right;\">\n",
       "      <th></th>\n",
       "      <th>id</th>\n",
       "      <th>font</th>\n",
       "    </tr>\n",
       "  </thead>\n",
       "  <tbody>\n",
       "    <tr>\n",
       "      <th>0</th>\n",
       "      <td>1</td>\n",
       "      <td>Helvetica</td>\n",
       "    </tr>\n",
       "    <tr>\n",
       "      <th>1</th>\n",
       "      <td>2</td>\n",
       "      <td>Helvetica</td>\n",
       "    </tr>\n",
       "    <tr>\n",
       "      <th>2</th>\n",
       "      <td>3</td>\n",
       "      <td>Helvetica</td>\n",
       "    </tr>\n",
       "    <tr>\n",
       "      <th>3</th>\n",
       "      <td>4</td>\n",
       "      <td>Helvetica</td>\n",
       "    </tr>\n",
       "    <tr>\n",
       "      <th>4</th>\n",
       "      <td>5</td>\n",
       "      <td>Arial</td>\n",
       "    </tr>\n",
       "  </tbody>\n",
       "</table>\n",
       "</div>"
      ],
      "text/plain": [
       "   id       font\n",
       "0   1  Helvetica\n",
       "1   2  Helvetica\n",
       "2   3  Helvetica\n",
       "3   4  Helvetica\n",
       "4   5      Arial"
      ]
     },
     "execution_count": 551,
     "metadata": {},
     "output_type": "execute_result"
    }
   ],
   "source": [
    "fonts = pd.read_csv(FONTS_DATASET)\n",
    "fonts.head()"
   ]
  },
  {
   "cell_type": "markdown",
   "metadata": {},
   "source": [
    "### Task 2 — 12pts\n",
    "\n",
    "As a good data scientist, the first thing you do is to clean up the data and perform some small sanity checks.\n",
    "\n",
    "1. The motorcycle insurance company mentioned that each policy has a unique identifier, but that there may be duplicate \n",
    "rows (i.e., multiple rows with the same policy identifier). Check if there are duplicate policies and, if so, filter \n",
    "these rows from the data (always keeping the first).\n",
    "\n",
    "2. According to the company, all policies should have kept the number of motorcycles from the previous contract (i.e., \n",
    "the number of motorcycles recorded in baseline contracts should equal the number of motorcycles in updated contracts). \n",
    "Also, the number of odometer readings for each contract should be the same as the number stated in the \n",
    "`motorcycle_count` variable. Check the data to see if these two things hold. If not, filter the anomalous rows.\n",
    "\n",
    "3. Calculate the mean and the median value of each column related to kilometrages. Are the values obtained plausible? \n",
    "Visualize the distribution of the data and remove any extreme outliers.\n",
    "\n",
    "4. **Discuss:** In cases where you cannot think of appropriate ways to remove outliers, would you prefer summarizing \n",
    "numerical data with outliers with the mean or the median? Why?\n",
    "\n",
    "---\n",
    "\n",
    "**Hint:** Here we are considering as outliers numbers that are not plausible in the context of motorcycle kilometrages."
   ]
  },
  {
   "cell_type": "markdown",
   "metadata": {},
   "source": [
    "#### Task 2.1: "
   ]
  },
  {
   "cell_type": "code",
   "execution_count": 552,
   "metadata": {},
   "outputs": [
    {
     "data": {
      "text/plain": [
       "True"
      ]
     },
     "execution_count": 552,
     "metadata": {},
     "output_type": "execute_result"
    }
   ],
   "source": [
    "if policies.id.is_unique == False:\n",
    "    policies = policies.drop_duplicates('id')\n",
    "policies.id.is_unique"
   ]
  },
  {
   "cell_type": "markdown",
   "metadata": {},
   "source": [
    "#### Task 2.2: \n",
    "First we check that there is always an updated number for each baseline motorcycle.\n",
    "To do so we identify locations of all NaN values in policies dataframe. \n",
    "We then evaluate each pair of columns baseline_i and update_i to check that NaN values are aligned/consistent. \n",
    "The for loop returns True for each valid motorcycle pair, and False if there is an error."
   ]
  },
  {
   "cell_type": "code",
   "execution_count": 553,
   "metadata": {},
   "outputs": [
    {
     "name": "stdout",
     "output_type": "stream",
     "text": [
      "True\n",
      "True\n",
      "True\n",
      "True\n"
     ]
    }
   ],
   "source": [
    "nan_of_policies = policies.notna().iloc[:,2:-1]\n",
    "for i in range(0, nan_of_policies.shape[1], 2):\n",
    "    print(nan_of_policies.iloc[:, i].equals(nan_of_policies.iloc[:, i+1]))"
   ]
  },
  {
   "cell_type": "markdown",
   "metadata": {},
   "source": [
    "Since all values are True, we see that there is no need to make correction regarding this issue.\n",
    "\n",
    "We then sum the number of non NaN values from each row, divide it by 2 and compare this number to the column motorcycle_counts. The .all function would return false if there was an inconsistency. We can see that it is not the case."
   ]
  },
  {
   "cell_type": "code",
   "execution_count": 554,
   "metadata": {},
   "outputs": [
    {
     "data": {
      "text/plain": [
       "True"
      ]
     },
     "execution_count": 554,
     "metadata": {},
     "output_type": "execute_result"
    }
   ],
   "source": [
    "((nan_of_policies.sum(axis=1)/2).eq(policies.motorcycle_count)).all()"
   ]
  },
  {
   "cell_type": "markdown",
   "metadata": {},
   "source": [
    "#### Task 2.3: "
   ]
  },
  {
   "cell_type": "code",
   "execution_count": 555,
   "metadata": {
    "scrolled": true
   },
   "outputs": [
    {
     "data": {
      "text/html": [
       "<div>\n",
       "<style scoped>\n",
       "    .dataframe tbody tr th:only-of-type {\n",
       "        vertical-align: middle;\n",
       "    }\n",
       "\n",
       "    .dataframe tbody tr th {\n",
       "        vertical-align: top;\n",
       "    }\n",
       "\n",
       "    .dataframe thead th {\n",
       "        text-align: right;\n",
       "    }\n",
       "</style>\n",
       "<table border=\"1\" class=\"dataframe\">\n",
       "  <thead>\n",
       "    <tr style=\"text-align: right;\">\n",
       "      <th></th>\n",
       "      <th>mean</th>\n",
       "      <th>median</th>\n",
       "    </tr>\n",
       "  </thead>\n",
       "  <tbody>\n",
       "    <tr>\n",
       "      <th>baseline_motorcycle1</th>\n",
       "      <td>7.413998e+14</td>\n",
       "      <td>56341.5</td>\n",
       "    </tr>\n",
       "    <tr>\n",
       "      <th>update_motorcycle1</th>\n",
       "      <td>7.413998e+14</td>\n",
       "      <td>82397.5</td>\n",
       "    </tr>\n",
       "    <tr>\n",
       "      <th>baseline_motorcycle2</th>\n",
       "      <td>6.732597e+04</td>\n",
       "      <td>56157.5</td>\n",
       "    </tr>\n",
       "    <tr>\n",
       "      <th>update_motorcycle2</th>\n",
       "      <td>9.227763e+04</td>\n",
       "      <td>82061.0</td>\n",
       "    </tr>\n",
       "    <tr>\n",
       "      <th>baseline_motorcycle3</th>\n",
       "      <td>6.765732e+04</td>\n",
       "      <td>58821.0</td>\n",
       "    </tr>\n",
       "    <tr>\n",
       "      <th>update_motorcycle3</th>\n",
       "      <td>9.284941e+04</td>\n",
       "      <td>85645.0</td>\n",
       "    </tr>\n",
       "    <tr>\n",
       "      <th>baseline_motorcycle4</th>\n",
       "      <td>6.782798e+04</td>\n",
       "      <td>68181.0</td>\n",
       "    </tr>\n",
       "    <tr>\n",
       "      <th>update_motorcycle4</th>\n",
       "      <td>9.337428e+04</td>\n",
       "      <td>93387.5</td>\n",
       "    </tr>\n",
       "  </tbody>\n",
       "</table>\n",
       "</div>"
      ],
      "text/plain": [
       "                              mean   median\n",
       "baseline_motorcycle1  7.413998e+14  56341.5\n",
       "update_motorcycle1    7.413998e+14  82397.5\n",
       "baseline_motorcycle2  6.732597e+04  56157.5\n",
       "update_motorcycle2    9.227763e+04  82061.0\n",
       "baseline_motorcycle3  6.765732e+04  58821.0\n",
       "update_motorcycle3    9.284941e+04  85645.0\n",
       "baseline_motorcycle4  6.782798e+04  68181.0\n",
       "update_motorcycle4    9.337428e+04  93387.5"
      ]
     },
     "execution_count": 555,
     "metadata": {},
     "output_type": "execute_result"
    }
   ],
   "source": [
    "mean = policies.mean(numeric_only=True).drop(['id', 'motorcycle_count'])\n",
    "median = policies.median(numeric_only=True).drop(['id', 'motorcycle_count'])\n",
    "pd.concat([mean.rename('mean'),median.rename('median')], axis = 1)"
   ]
  },
  {
   "cell_type": "markdown",
   "metadata": {},
   "source": [
    "We observe impossible values for the mean motorcycle 1\n",
    "\n",
    "Let's now try to visualize eventual outliers:"
   ]
  },
  {
   "cell_type": "code",
   "execution_count": 556,
   "metadata": {},
   "outputs": [
    {
     "data": {
      "image/png": "[encoded data removed]",
      "text/plain": [
       "<Figure size 1440x720 with 8 Axes>"
      ]
     },
     "metadata": {
      "needs_background": "light"
     },
     "output_type": "display_data"
    }
   ],
   "source": [
    "ax = policies.drop(columns=['id', 'condition', 'motorcycle_count']).hist(layout=[2,4], figsize=[20,10], bins=30, sharey=True, log=True);\n",
    "ax[0,0].set_ylabel(\"Number of contracts\");\n",
    "ax[1,0].set_ylabel(\"Number of contracts\");\n",
    "\n",
    "ax[0,0].set_xlabel(\"Kilometerage [km]\");\n",
    "ax[1,0].set_xlabel(\"Kilometerage [km]\");\n",
    "ax[0,1].set_xlabel(\"Kilometerage [km]\");\n",
    "ax[1,1].set_xlabel(\"Kilometerage [km]\");\n",
    "ax[0,2].set_xlabel(\"Kilometerage [km]\");\n",
    "ax[1,2].set_xlabel(\"Kilometerage [km]\");\n",
    "ax[0,3].set_xlabel(\"Kilometerage [km]\");\n",
    "ax[1,3].set_xlabel(\"Kilometerage [km]\");"
   ]
  },
  {
   "cell_type": "markdown",
   "metadata": {},
   "source": [
    "We observe outliers for the first 3 motorcycles.\n",
    "So we threshold at 700000 to remove these extremes outliers."
   ]
  },
  {
   "cell_type": "code",
   "execution_count": 557,
   "metadata": {},
   "outputs": [],
   "source": [
    "cut_value = 700000\n",
    "\n",
    "policies = policies.drop(policies[policies.baseline_motorcycle1 > cut_value].index)\n",
    "policies = policies.drop(policies[policies.baseline_motorcycle2 > cut_value].index)\n",
    "policies = policies.drop(policies[policies.baseline_motorcycle3 > cut_value].index)\n",
    "policies = policies.drop(policies[policies.update_motorcycle1 > cut_value].index)\n",
    "policies = policies.drop(policies[policies.update_motorcycle2 > cut_value].index)\n",
    "policies = policies.drop(policies[policies.update_motorcycle3 > cut_value].index)"
   ]
  },
  {
   "cell_type": "code",
   "execution_count": 558,
   "metadata": {},
   "outputs": [
    {
     "data": {
      "image/png": "[encoded data removed]",
      "text/plain": [
       "<Figure size 2160x720 with 8 Axes>"
      ]
     },
     "metadata": {
      "needs_background": "light"
     },
     "output_type": "display_data"
    }
   ],
   "source": [
    "ax = policies.drop(columns=['id', 'condition', 'motorcycle_count']).hist(layout=[2,4], figsize=[30,10], bins=30, sharey=True, log=True);\n",
    "ax[0,0].set_ylabel(\"Number of contracts\");\n",
    "ax[1,0].set_ylabel(\"Number of contracts\");\n",
    "\n",
    "ax[0,0].set_xlabel(\"Kilometerage [km]\");\n",
    "ax[1,0].set_xlabel(\"Kilometerage [km]\");\n",
    "ax[0,1].set_xlabel(\"Kilometerage [km]\");\n",
    "ax[1,1].set_xlabel(\"Kilometerage [km]\");\n",
    "ax[0,2].set_xlabel(\"Kilometerage [km]\");\n",
    "ax[1,2].set_xlabel(\"Kilometerage [km]\");\n",
    "ax[0,3].set_xlabel(\"Kilometerage [km]\");\n",
    "ax[1,3].set_xlabel(\"Kilometerage [km]\");"
   ]
  },
  {
   "cell_type": "markdown",
   "metadata": {},
   "source": [
    "### Task 3 — 12pts\n",
    "\n",
    "One of the challenges with the current data is that it is not clear how to handle policies with multiple motorcycles.\n",
    "\n",
    "1. Create three additional columns in the dataframe, `baseline_average`, `update_average`, and `diff_average`. These \n",
    "should contain, respectively, the average value for `baseline_motorcycle[1-4]` for all motorcycles insured; the average\n",
    " value for `update_motorcycle[1-4]`; and the difference between the average updated value and the average baseline \n",
    " value.\n",
    "2. **Discuss:** Propose another way of aggregating distinct motorcycles from a single policy. Point out a way in which \n",
    "this aggregation may be either better or worse than taking the average for the purpose of comparing the two scenarios in\n",
    " the study (sign at the top vs. sign at the bottom).\n",
    "3. To get a sense of the impact that policies with multiple motorcycles may have in the study, let's perform some \n",
    "additional analyses. Plot the distribution of motorcycles per policy in the data. Your plot should allow for the \n",
    "meaningful comparison of the values shown.\n",
    "4. In 3.1, you calculated the average kilometrage for each policy for the updated contract. Calculate the mean and the \n",
    "standard deviation of these values (which should be in the column `update_average`).\n",
    "5. Another meaningful metric is the average kilometrage **per motorcycle**, not distinguishing motorcycles in different \n",
    "policies (i.e., pooled across policies). **Considering only policies with 4 motorcycles insured,** calculate the mean \n",
    "and the standard deviation of the kilometrage per motorcycle in the updated contract.\n",
    "6. **Discuss:** To analyze whether signing at the top decreases dishonesty, we could consider the data in different \n",
    "ways. We could first calculate the average value per motorcycle within each policy and have one data point per policy \n",
    "**or** we could analyze the data at the motorcycle level and have one data point per motorcycle in the dataset. \n",
    "According to questions 3.4 and 3.5, how may this decision influence the results of the study?\n",
    "---"
   ]
  },
  {
   "cell_type": "markdown",
   "metadata": {},
   "source": [
    "#### Task 3.1:\n",
    "\n",
    "This first task is quite straight-forward. We simply calculate the means by selecting the correct columns via their names (with the filter function) and assign these values to their respective columns, and then substract them to get the third column. Note that the skipna argument is true by default so there's no need to add it in the call of mean(), but we add the argument axis=1 to compute the means by row."
   ]
  },
  {
   "cell_type": "code",
   "execution_count": 559,
   "metadata": {},
   "outputs": [
    {
     "data": {
      "text/html": [
       "<div>\n",
       "<style scoped>\n",
       "    .dataframe tbody tr th:only-of-type {\n",
       "        vertical-align: middle;\n",
       "    }\n",
       "\n",
       "    .dataframe tbody tr th {\n",
       "        vertical-align: top;\n",
       "    }\n",
       "\n",
       "    .dataframe thead th {\n",
       "        text-align: right;\n",
       "    }\n",
       "</style>\n",
       "<table border=\"1\" class=\"dataframe\">\n",
       "  <thead>\n",
       "    <tr style=\"text-align: right;\">\n",
       "      <th></th>\n",
       "      <th>condition</th>\n",
       "      <th>id</th>\n",
       "      <th>baseline_motorcycle1</th>\n",
       "      <th>update_motorcycle1</th>\n",
       "      <th>baseline_motorcycle2</th>\n",
       "      <th>update_motorcycle2</th>\n",
       "      <th>baseline_motorcycle3</th>\n",
       "      <th>update_motorcycle3</th>\n",
       "      <th>baseline_motorcycle4</th>\n",
       "      <th>update_motorcycle4</th>\n",
       "      <th>motorcycle_count</th>\n",
       "      <th>baseline_average</th>\n",
       "      <th>update_average</th>\n",
       "      <th>diff_average</th>\n",
       "    </tr>\n",
       "  </thead>\n",
       "  <tbody>\n",
       "    <tr>\n",
       "      <th>0</th>\n",
       "      <td>Sign Top</td>\n",
       "      <td>1</td>\n",
       "      <td>896</td>\n",
       "      <td>39198</td>\n",
       "      <td>NaN</td>\n",
       "      <td>NaN</td>\n",
       "      <td>NaN</td>\n",
       "      <td>NaN</td>\n",
       "      <td>NaN</td>\n",
       "      <td>NaN</td>\n",
       "      <td>1</td>\n",
       "      <td>896.0</td>\n",
       "      <td>39198.0</td>\n",
       "      <td>38302.0</td>\n",
       "    </tr>\n",
       "    <tr>\n",
       "      <th>1</th>\n",
       "      <td>Sign Bottom</td>\n",
       "      <td>2</td>\n",
       "      <td>21396</td>\n",
       "      <td>63511</td>\n",
       "      <td>32659.0</td>\n",
       "      <td>47605.0</td>\n",
       "      <td>NaN</td>\n",
       "      <td>NaN</td>\n",
       "      <td>NaN</td>\n",
       "      <td>NaN</td>\n",
       "      <td>2</td>\n",
       "      <td>27027.5</td>\n",
       "      <td>55558.0</td>\n",
       "      <td>28530.5</td>\n",
       "    </tr>\n",
       "    <tr>\n",
       "      <th>2</th>\n",
       "      <td>Sign Bottom</td>\n",
       "      <td>3</td>\n",
       "      <td>21340</td>\n",
       "      <td>37460</td>\n",
       "      <td>44998.0</td>\n",
       "      <td>59002.0</td>\n",
       "      <td>NaN</td>\n",
       "      <td>NaN</td>\n",
       "      <td>NaN</td>\n",
       "      <td>NaN</td>\n",
       "      <td>2</td>\n",
       "      <td>33169.0</td>\n",
       "      <td>48231.0</td>\n",
       "      <td>15062.0</td>\n",
       "    </tr>\n",
       "    <tr>\n",
       "      <th>3</th>\n",
       "      <td>Sign Bottom</td>\n",
       "      <td>4</td>\n",
       "      <td>23912</td>\n",
       "      <td>59136</td>\n",
       "      <td>NaN</td>\n",
       "      <td>NaN</td>\n",
       "      <td>NaN</td>\n",
       "      <td>NaN</td>\n",
       "      <td>NaN</td>\n",
       "      <td>NaN</td>\n",
       "      <td>1</td>\n",
       "      <td>23912.0</td>\n",
       "      <td>59136.0</td>\n",
       "      <td>35224.0</td>\n",
       "    </tr>\n",
       "    <tr>\n",
       "      <th>4</th>\n",
       "      <td>Sign Bottom</td>\n",
       "      <td>5</td>\n",
       "      <td>16862</td>\n",
       "      <td>59292</td>\n",
       "      <td>NaN</td>\n",
       "      <td>NaN</td>\n",
       "      <td>NaN</td>\n",
       "      <td>NaN</td>\n",
       "      <td>NaN</td>\n",
       "      <td>NaN</td>\n",
       "      <td>1</td>\n",
       "      <td>16862.0</td>\n",
       "      <td>59292.0</td>\n",
       "      <td>42430.0</td>\n",
       "    </tr>\n",
       "  </tbody>\n",
       "</table>\n",
       "</div>"
      ],
      "text/plain": [
       "     condition  id  baseline_motorcycle1  update_motorcycle1  \\\n",
       "0     Sign Top   1                   896               39198   \n",
       "1  Sign Bottom   2                 21396               63511   \n",
       "2  Sign Bottom   3                 21340               37460   \n",
       "3  Sign Bottom   4                 23912               59136   \n",
       "4  Sign Bottom   5                 16862               59292   \n",
       "\n",
       "   baseline_motorcycle2  update_motorcycle2  baseline_motorcycle3  \\\n",
       "0                   NaN                 NaN                   NaN   \n",
       "1               32659.0             47605.0                   NaN   \n",
       "2               44998.0             59002.0                   NaN   \n",
       "3                   NaN                 NaN                   NaN   \n",
       "4                   NaN                 NaN                   NaN   \n",
       "\n",
       "   update_motorcycle3  baseline_motorcycle4  update_motorcycle4  \\\n",
       "0                 NaN                   NaN                 NaN   \n",
       "1                 NaN                   NaN                 NaN   \n",
       "2                 NaN                   NaN                 NaN   \n",
       "3                 NaN                   NaN                 NaN   \n",
       "4                 NaN                   NaN                 NaN   \n",
       "\n",
       "   motorcycle_count  baseline_average  update_average  diff_average  \n",
       "0                 1             896.0         39198.0       38302.0  \n",
       "1                 2           27027.5         55558.0       28530.5  \n",
       "2                 2           33169.0         48231.0       15062.0  \n",
       "3                 1           23912.0         59136.0       35224.0  \n",
       "4                 1           16862.0         59292.0       42430.0  "
      ]
     },
     "execution_count": 559,
     "metadata": {},
     "output_type": "execute_result"
    }
   ],
   "source": [
    "#Create the 3 new columns by filtering the columns of interest and calculating their mean\n",
    "policies[\"baseline_average\"]=policies.filter(regex=\"^baseline_motorcycle\").mean(axis=1)\n",
    "policies[\"update_average\"]=policies.filter(regex=\"^update_motorcycle\").mean(axis=1)\n",
    "policies[\"diff_average\"]=policies[\"update_average\"]-policies[\"baseline_average\"]\n",
    "\n",
    "#Check that the new columns are correctly inserted in the Dataframe\n",
    "policies.head()"
   ]
  },
  {
   "cell_type": "markdown",
   "metadata": {},
   "source": [
    "#### Task 3.2:\n",
    "\n",
    "We could use the median instead of the mean in order to be more robust towards big differences in kilometrage between motorcycles. For exemple, in the case where a motorcycle has far less kilometrage than the others, with the median, it won't be hidden by the other motorcycles."
   ]
  },
  {
   "cell_type": "markdown",
   "metadata": {},
   "source": [
    "#### Task 3.3:\n",
    "\n",
    "We chose to use a logarithmic axis for the number of contracts on each count of motorcycle to make the graph more readable (otherwise the count of contract with 4 motorcycles is nearly invisible). We also added a grid to refer more easily to the logarithmic scale."
   ]
  },
  {
   "cell_type": "code",
   "execution_count": 615,
   "metadata": {},
   "outputs": [
    {
     "data": {
      "image/png": "[encoded data removed]",
      "text/plain": [
       "<Figure size 432x288 with 1 Axes>"
      ]
     },
     "metadata": {
      "needs_background": "light"
     },
     "output_type": "display_data"
    }
   ],
   "source": [
    "ax = policies[\"motorcycle_count\"].hist(log=True, grid=False, bins=np.arange(1,6)-0.5, rwidth=0.5);\n",
    "ax.set_title(\"Motorcycle count\")\n",
    "ax.set_xticks([1,2,3,4])\n",
    "ax.set_xlabel(\"Motorcycle\");\n",
    "ax.set_ylabel(\"Number of contracts\");"
   ]
  },
  {
   "cell_type": "markdown",
   "metadata": {},
   "source": [
    "#### Task 3.4:\n",
    "\n",
    "For this task we can use the function mean() and std() of pandas library and print the results (with 2 decimals):"
   ]
  },
  {
   "cell_type": "code",
   "execution_count": 616,
   "metadata": {},
   "outputs": [
    {
     "name": "stdout",
     "output_type": "stream",
     "text": [
      "The mean for the average kilometrage of each policy for the updated contrat is : 91749.53 and the standard deviation is : 49911.10\n"
     ]
    }
   ],
   "source": [
    "print(\"The mean for the average kilometrage of each policy for the updated contrat is : %.2f\" % policies.update_average.mean()\\\n",
    "      +\" and the standard deviation is : %.2f\" % policies.update_average.std())"
   ]
  },
  {
   "cell_type": "markdown",
   "metadata": {},
   "source": [
    "#### Task 3.5:\n",
    "\n",
    "We flatten the 4 columns to calculate the mean and the std using a single line of code. To do so we convert the DataFrame to a numpy array and then flatten it before finally calculating the mean:"
   ]
  },
  {
   "cell_type": "code",
   "execution_count": 617,
   "metadata": {},
   "outputs": [
    {
     "name": "stdout",
     "output_type": "stream",
     "text": [
      "The overall mean of the updated_motorcycle including only contract with 4 motorcycles is : 113443.86\n"
     ]
    }
   ],
   "source": [
    "print(\"The overall mean of the updated_motorcycle including only contract with 4 motorcycles is : %.2f\"\\\n",
    "      %policies[policies.motorcycle_count==4].filter(regex=\"^update_motorcycle\").to_numpy().flatten().mean())"
   ]
  },
  {
   "cell_type": "code",
   "execution_count": 618,
   "metadata": {},
   "outputs": [
    {
     "name": "stdout",
     "output_type": "stream",
     "text": [
      "And the resulting standard deviation is : 82911.91\n"
     ]
    }
   ],
   "source": [
    "print(\"And the resulting standard deviation is : %.2f\"\\\n",
    "      %policies[policies.motorcycle_count==4].filter(regex=\"^update_motorcycle\").to_numpy().flatten().std())"
   ]
  },
  {
   "cell_type": "markdown",
   "metadata": {},
   "source": [
    "#### Task 3.6:\n",
    "\n",
    "### Not so sure for this task, ask the others\n",
    "\n",
    "First of all, we state that we made the assumpions that the mean of the subset of data of policies with 4 motorcycles should not differ by a lot from the mean over all policies. As we observe from our data, the mean is quite different if we compute it by policies or by motorcycles, and so does the standard deviation. Since all policies don't have the same number of motorcycles- in particular, there is much more policies with 1 or 2 motorcycles than with 3 or 4- taking the mean over policies will shift it towards the mean of policies with 1 or 2 motorcycles. On the other case, computing the mean over all motorcycles is more balanced as each motorcycle counts the same. Furthermore, as stated in task 3.2, taking the mean on policies may hide some artifacts if a client lied on a single motorcycle even though multiple motorcycles are present in the contract."
   ]
  },
  {
   "cell_type": "markdown",
   "metadata": {},
   "source": [
    "### Task 4 — 18pts\n",
    "\n",
    "Now that we have compressed the kilometrage reported in each contract into a single number, it is time to analyze the \n",
    "million-dollar question: *does signing at the top decrease dishonesty?*\n",
    "\n",
    "1. Considering the updated contracts, calculate the mean and the standard deviation of the average kilometrage in a) \n",
    "policies where the signing was done at the bottom; and b) policies where the signing was done at the top. Additionally,\n",
    "plot the two kilometrage distributions.\n",
    "2. Determine whether the difference between the two scenarios mentioned in 1. is statistically significant.\n",
    "3. **Discuss:** Recall that the assignment of the different contracts (*sign at the top* vs. *sign at the bottom*) was \n",
    "done at random. According to the results in 1. and 2., does signing at the top decrease dishonesty? \n",
    "4.  **Discuss:** Given that no intervention was performed in the baseline contract (i.e., everyone signed at the \n",
    "bottom). Would you expect any differences between the average values between *sign at the top* vs. *sign at the bottom*\n",
    " conditions for the baseline contract? Note that this is related to columns `baseline_motorcycle[1-4]`.\n",
    "5. Calculate the mean and the standard deviation for the baseline contracts of the two groups (sign at the top vs. sign \n",
    "at the bottom). Additionally, plot the two kilometrage distributions.\n",
    "6. Determine whether the difference between the two scenarios mentioned in 5. is statistically significant.\n",
    "\n",
    "---\n",
    "\n",
    "**Hint:** Recall that the column `condition` encodes the experimental condition in which the customer fell when \n",
    "reporting the values shown in columns `update_motorcycle[1-4]`!\n",
    "\n",
    "**Hint:** To determine if the means of two sets of data are significantly different from each other, you may want to use\n",
    " the `ttest_ind` function implemented in the \n",
    " [scipy library](https://docs.scipy.org/doc/scipy/reference/generated/scipy.stats.ttest_ind.html). To learn more about \n",
    " Student's t-test, check out this [Wikipedia page](https://en.wikipedia.org/wiki/Student%27s_t-test)."
   ]
  },
  {
   "cell_type": "markdown",
   "metadata": {},
   "source": [
    "#### Task 4.1:"
   ]
  },
  {
   "cell_type": "code",
   "execution_count": 619,
   "metadata": {},
   "outputs": [
    {
     "data": {
      "text/html": [
       "<div>\n",
       "<style scoped>\n",
       "    .dataframe tbody tr th:only-of-type {\n",
       "        vertical-align: middle;\n",
       "    }\n",
       "\n",
       "    .dataframe tbody tr th {\n",
       "        vertical-align: top;\n",
       "    }\n",
       "\n",
       "    .dataframe thead tr th {\n",
       "        text-align: left;\n",
       "    }\n",
       "\n",
       "    .dataframe thead tr:last-of-type th {\n",
       "        text-align: right;\n",
       "    }\n",
       "</style>\n",
       "<table border=\"1\" class=\"dataframe\">\n",
       "  <thead>\n",
       "    <tr>\n",
       "      <th></th>\n",
       "      <th colspan=\"8\" halign=\"left\">update_average</th>\n",
       "    </tr>\n",
       "    <tr>\n",
       "      <th></th>\n",
       "      <th>count</th>\n",
       "      <th>mean</th>\n",
       "      <th>std</th>\n",
       "      <th>min</th>\n",
       "      <th>25%</th>\n",
       "      <th>50%</th>\n",
       "      <th>75%</th>\n",
       "      <th>max</th>\n",
       "    </tr>\n",
       "    <tr>\n",
       "      <th>condition</th>\n",
       "      <th></th>\n",
       "      <th></th>\n",
       "      <th></th>\n",
       "      <th></th>\n",
       "      <th></th>\n",
       "      <th></th>\n",
       "      <th></th>\n",
       "      <th></th>\n",
       "    </tr>\n",
       "  </thead>\n",
       "  <tbody>\n",
       "    <tr>\n",
       "      <th>Sign Bottom</th>\n",
       "      <td>6655.0</td>\n",
       "      <td>98214.985312</td>\n",
       "      <td>49997.140285</td>\n",
       "      <td>980.0</td>\n",
       "      <td>62758.5</td>\n",
       "      <td>91157.0</td>\n",
       "      <td>125626.25</td>\n",
       "      <td>511887.0</td>\n",
       "    </tr>\n",
       "    <tr>\n",
       "      <th>Sign Top</th>\n",
       "      <td>6819.0</td>\n",
       "      <td>85439.578494</td>\n",
       "      <td>49014.991874</td>\n",
       "      <td>125.0</td>\n",
       "      <td>49397.5</td>\n",
       "      <td>77925.0</td>\n",
       "      <td>111973.75</td>\n",
       "      <td>451104.0</td>\n",
       "    </tr>\n",
       "  </tbody>\n",
       "</table>\n",
       "</div>"
      ],
      "text/plain": [
       "            update_average                                              \\\n",
       "                     count          mean           std    min      25%   \n",
       "condition                                                                \n",
       "Sign Bottom         6655.0  98214.985312  49997.140285  980.0  62758.5   \n",
       "Sign Top            6819.0  85439.578494  49014.991874  125.0  49397.5   \n",
       "\n",
       "                                           \n",
       "                 50%        75%       max  \n",
       "condition                                  \n",
       "Sign Bottom  91157.0  125626.25  511887.0  \n",
       "Sign Top     77925.0  111973.75  451104.0  "
      ]
     },
     "execution_count": 619,
     "metadata": {},
     "output_type": "execute_result"
    }
   ],
   "source": [
    "sign_bottom = policies.query('condition == \"Sign Bottom\"')['update_average']\n",
    "sign_top = policies.query('condition == \"Sign Top\"')['update_average']\n",
    "policies.groupby(['condition'])[['update_average']].describe()"
   ]
  },
  {
   "cell_type": "code",
   "execution_count": 633,
   "metadata": {},
   "outputs": [
    {
     "data": {
      "image/png": "[encoded data removed]",
      "text/plain": [
       "<Figure size 432x288 with 1 Axes>"
      ]
     },
     "metadata": {
      "needs_background": "light"
     },
     "output_type": "display_data"
    }
   ],
   "source": [
    "ax = sns.boxplot(x='condition', y='update_average', data=policies);\n",
    "ax.set_title('Kilometrage distribution depending on signing condition for the updated contracts');\n",
    "ax.set_ylabel('Kilometrage');"
   ]
  },
  {
   "cell_type": "code",
   "execution_count": 634,
   "metadata": {},
   "outputs": [
    {
     "data": {
      "image/png": "[encoded data removed]",
      "text/plain": [
       "<Figure size 432x288 with 1 Axes>"
      ]
     },
     "metadata": {
      "needs_background": "light"
     },
     "output_type": "display_data"
    }
   ],
   "source": [
    "ax = sns.violinplot(x='condition', y='update_average', data=policies);\n",
    "ax.set_title('Kilometrage distribution depending on signing condition for the updated contracts');\n",
    "ax.set_ylabel('Kilometrage');"
   ]
  },
  {
   "cell_type": "markdown",
   "metadata": {},
   "source": [
    "#### Task 4.2:"
   ]
  },
  {
   "cell_type": "code",
   "execution_count": 629,
   "metadata": {},
   "outputs": [
    {
     "data": {
      "text/plain": [
       "Ttest_indResult(statistic=14.977299124191866, pvalue=2.6236053282843453e-50)"
      ]
     },
     "execution_count": 629,
     "metadata": {},
     "output_type": "execute_result"
    }
   ],
   "source": [
    "stats.ttest_ind(sign_bottom,sign_top)"
   ]
  },
  {
   "cell_type": "markdown",
   "metadata": {},
   "source": [
    "Given that the assumptions for the test are satisfied we proceed with the Student's t-test and obtain a p-value <<. 0.05 therefore we reject the null hypothesis and can conclude that the difference between the average kilometrage across polices where the signing was done at the bottom versus at the top is stastically significant."
   ]
  },
  {
   "cell_type": "markdown",
   "metadata": {},
   "source": [
    "#### Task 4.3:"
   ]
  },
  {
   "cell_type": "markdown",
   "metadata": {},
   "source": [
    "As shown in the previous two points both from a visual and analitycal perspective signing at the top seems, contrary to our expectation, to increase disonesty as the average kilometrage for the policies signed at the top is significantly lower than the ones signed at the bottom."
   ]
  },
  {
   "cell_type": "markdown",
   "metadata": {},
   "source": [
    "#### Task 4.4:"
   ]
  },
  {
   "cell_type": "markdown",
   "metadata": {},
   "source": [
    "I would not expect any statistically significant difference between the average of the two given that the signing at top/bottom randomized is only applied to the updated contracts."
   ]
  },
  {
   "cell_type": "markdown",
   "metadata": {},
   "source": [
    "#### Task 4.5:"
   ]
  },
  {
   "cell_type": "code",
   "execution_count": 631,
   "metadata": {},
   "outputs": [
    {
     "data": {
      "text/html": [
       "<div>\n",
       "<style scoped>\n",
       "    .dataframe tbody tr th:only-of-type {\n",
       "        vertical-align: middle;\n",
       "    }\n",
       "\n",
       "    .dataframe tbody tr th {\n",
       "        vertical-align: top;\n",
       "    }\n",
       "\n",
       "    .dataframe thead tr th {\n",
       "        text-align: left;\n",
       "    }\n",
       "\n",
       "    .dataframe thead tr:last-of-type th {\n",
       "        text-align: right;\n",
       "    }\n",
       "</style>\n",
       "<table border=\"1\" class=\"dataframe\">\n",
       "  <thead>\n",
       "    <tr>\n",
       "      <th></th>\n",
       "      <th colspan=\"8\" halign=\"left\">baseline_average</th>\n",
       "    </tr>\n",
       "    <tr>\n",
       "      <th></th>\n",
       "      <th>count</th>\n",
       "      <th>mean</th>\n",
       "      <th>std</th>\n",
       "      <th>min</th>\n",
       "      <th>25%</th>\n",
       "      <th>50%</th>\n",
       "      <th>75%</th>\n",
       "      <th>max</th>\n",
       "    </tr>\n",
       "    <tr>\n",
       "      <th>condition</th>\n",
       "      <th></th>\n",
       "      <th></th>\n",
       "      <th></th>\n",
       "      <th></th>\n",
       "      <th></th>\n",
       "      <th></th>\n",
       "      <th></th>\n",
       "      <th></th>\n",
       "    </tr>\n",
       "  </thead>\n",
       "  <tbody>\n",
       "    <tr>\n",
       "      <th>Sign Bottom</th>\n",
       "      <td>6655.0</td>\n",
       "      <td>74541.966905</td>\n",
       "      <td>48241.881875</td>\n",
       "      <td>0.0</td>\n",
       "      <td>39640.5</td>\n",
       "      <td>67313.0</td>\n",
       "      <td>100212.75</td>\n",
       "      <td>463284.0</td>\n",
       "    </tr>\n",
       "    <tr>\n",
       "      <th>Sign Top</th>\n",
       "      <td>6819.0</td>\n",
       "      <td>59339.012416</td>\n",
       "      <td>47132.612618</td>\n",
       "      <td>0.0</td>\n",
       "      <td>24329.5</td>\n",
       "      <td>51055.0</td>\n",
       "      <td>83013.75</td>\n",
       "      <td>403733.0</td>\n",
       "    </tr>\n",
       "  </tbody>\n",
       "</table>\n",
       "</div>"
      ],
      "text/plain": [
       "            baseline_average                                            \\\n",
       "                       count          mean           std  min      25%   \n",
       "condition                                                                \n",
       "Sign Bottom           6655.0  74541.966905  48241.881875  0.0  39640.5   \n",
       "Sign Top              6819.0  59339.012416  47132.612618  0.0  24329.5   \n",
       "\n",
       "                                           \n",
       "                 50%        75%       max  \n",
       "condition                                  \n",
       "Sign Bottom  67313.0  100212.75  463284.0  \n",
       "Sign Top     51055.0   83013.75  403733.0  "
      ]
     },
     "execution_count": 631,
     "metadata": {},
     "output_type": "execute_result"
    }
   ],
   "source": [
    "sign_bottom_baseline = policies.query('condition == \"Sign Bottom\"')['baseline_average']\n",
    "sign_top_baseline = policies.query('condition == \"Sign Top\"')['baseline_average']\n",
    "policies.groupby(['condition'])[['baseline_average']].describe()"
   ]
  },
  {
   "cell_type": "code",
   "execution_count": 635,
   "metadata": {},
   "outputs": [
    {
     "data": {
      "image/png": "[encoded data removed]",
      "text/plain": [
       "<Figure size 432x288 with 1 Axes>"
      ]
     },
     "metadata": {
      "needs_background": "light"
     },
     "output_type": "display_data"
    }
   ],
   "source": [
    "ax = sns.boxplot(x='condition', y='baseline_average', data=policies);\n",
    "ax.set_title('Kilometrage distribution depending on signing condition for the baseline contracts');\n",
    "ax.set_ylabel('Kilometrage');"
   ]
  },
  {
   "cell_type": "code",
   "execution_count": 636,
   "metadata": {},
   "outputs": [
    {
     "data": {
      "image/png": "[encoded data removed]",
      "text/plain": [
       "<Figure size 432x288 with 1 Axes>"
      ]
     },
     "metadata": {
      "needs_background": "light"
     },
     "output_type": "display_data"
    }
   ],
   "source": [
    "ax = sns.violinplot(x='condition', y='baseline_average', data=policies);\n",
    "ax.set_title('Kilometrage distribution depending on signing condition for the baseline contracts');\n",
    "ax.set_ylabel('Kilometrage');"
   ]
  },
  {
   "cell_type": "markdown",
   "metadata": {},
   "source": [
    "#### Task 4.6:"
   ]
  },
  {
   "cell_type": "code",
   "execution_count": 637,
   "metadata": {},
   "outputs": [
    {
     "data": {
      "text/plain": [
       "Ttest_indResult(statistic=18.503077308838225, pvalue=1.6766682915476814e-75)"
      ]
     },
     "execution_count": 637,
     "metadata": {},
     "output_type": "execute_result"
    }
   ],
   "source": [
    "stats.ttest_ind(sign_bottom_baseline,sign_top_baseline)"
   ]
  },
  {
   "cell_type": "markdown",
   "metadata": {},
   "source": [
    "The difference between the two scenarios in the baseline contracts is also statistically significant as we reject the null hypothesis being the p-value significantly lower than 0.05.\n",
    "\n",
    "This difference is not what we expected : The kilometrage mean is also lower for the baseline policies signed at the top. There must be something else that explain this difference. Maybe someone tempered with the data."
   ]
  },
  {
   "cell_type": "markdown",
   "metadata": {},
   "source": [
    "## Interlude: Something is dodgy about this data...\n",
    "\n",
    "---\n",
    "\n",
    "Noticing the oddities in the data, you send an email to your contact at the insurance company asking about the integrity\n",
    " of the data. Their reply seems like something out of a detective movie:\n",
    "\n",
    "> Dear researcher, I believe that this data is not to be trusted. I can't talk right now but will send further hints \n",
    ">throughout the week.\n",
    "\n",
    "As a researcher, you know that [data integrity](https://en.wikipedia.org/wiki/Data_integrity) is a big deal, and decide\n",
    " to investigate."
   ]
  },
  {
   "cell_type": "markdown",
   "metadata": {},
   "source": [
    "### Task 5 — 9pts\n",
    "\n",
    "The first hint you receive is: *there is something off about the kilometrage values in the data.*\n",
    "\n",
    "1. For the baseline contract and for the updated contract, plot the distribution of odometer kilometrage reported for \n",
    "the first motorcycle insured in each policy. \n",
    "2. For the first motorcycle insured by the company in each policy, plot the difference between the number of kilometers\n",
    " reported in the baseline and in the updated contract.\n",
    "3. **Discuss:** why is this data unlikely to have originated from real odometer readings?\n",
    "\n",
    "---"
   ]
  },
  {
   "cell_type": "markdown",
   "metadata": {},
   "source": [
    "##### Task 5.1\n",
    "\n",
    "We choose to use a histgram to plot the distribution of one variable.\n",
    "\n",
    "In to better visualize the distribution we choose to restrict the range to 400,000km."
   ]
  },
  {
   "cell_type": "code",
   "execution_count": 639,
   "metadata": {},
   "outputs": [
    {
     "name": "stdout",
     "output_type": "stream",
     "text": [
      "This shows that the chosen range contains 99.91093958735343 of measurements\n"
     ]
    }
   ],
   "source": [
    "num_in_range = policies.loc[policies['baseline_motorcycle1']<400000, 'baseline_motorcycle1'].count()\n",
    "percent_in_range = num_in_range / policies['baseline_motorcycle1'].count() * 100\n",
    "print('This shows that the chosen range contains',percent_in_range, 'of measurements')"
   ]
  },
  {
   "cell_type": "code",
   "execution_count": 640,
   "metadata": {},
   "outputs": [
    {
     "data": {
      "image/png": "[encoded data removed]",
      "text/plain": [
       "<Figure size 1152x360 with 2 Axes>"
      ]
     },
     "metadata": {
      "needs_background": "light"
     },
     "output_type": "display_data"
    }
   ],
   "source": [
    "fig, ax = plt.subplots(1,2,figsize= (16,5), sharey = True, sharex = True)\n",
    "\n",
    "ax[0].hist(policies['baseline_motorcycle1'], bins=50, range=[0,400000])\n",
    "ax[0].set_title('Baseline kilometerage for motorcycle 1')\n",
    "ax[1].hist(policies['update_motorcycle1'], bins=50, range=[0,400000])\n",
    "ax[1].set_title('Updated kilometerage for motorcycle 1')\n",
    "\n",
    "fig.text(0.45,0, \"Kilometerage [km]\");\n",
    "fig.text(0,0.3, \"Number of contracts\", rotation = 90);"
   ]
  },
  {
   "cell_type": "markdown",
   "metadata": {},
   "source": [
    "##### Task 5.2 \n",
    "Plot of the difference in kilometerage between the update and the baseline for motorcycle 1. "
   ]
  },
  {
   "cell_type": "code",
   "execution_count": 642,
   "metadata": {},
   "outputs": [
    {
     "data": {
      "image/png": "[encoded data removed]",
      "text/plain": [
       "<Figure size 432x288 with 1 Axes>"
      ]
     },
     "metadata": {
      "needs_background": "light"
     },
     "output_type": "display_data"
    }
   ],
   "source": [
    "plt.hist(policies['update_motorcycle1'] - policies['baseline_motorcycle1'], bins=50)\n",
    "plt.title('Histogram of kilometerage difference of each policy for the first motorcycle')\n",
    "plt.ylabel('Number of policies');\n",
    "plt.xlabel('Kilometerage difference [km]');"
   ]
  },
  {
   "cell_type": "markdown",
   "metadata": {},
   "source": [
    "#### Task 5.3 - discussion/ interpretation of results:\n",
    "\n",
    "The first observation, made from the baseline kilometerage graph in part 5.1 is that the bin shows a very high peak. It seems the number of motorcycles reporting a very low baseline kilometerage is disproportionately high with respect to the rest of the data. \n",
    "It is understandable that amongst people signing new contracts there are a number of brand new motorcycles, but this first peak still looks disproportionately high. \n",
    "It seems more likely that a number of clients renewing a contract for a motorcycle that hasn't been used much try to pass it off as a brand new motorcycle and thus report a kilometerage near zero. \n",
    "\n",
    "I would have to look at the contract details, to understand how the pricing varies with kilometerage.\n",
    "The graph from part 5.2 shows a sudden cutoff in kilometerage difference at 50,000 km. If the insurance price increases once this threshold is reached, then it gives clients incentive to lie about their kilometerage and remain below this threshold. \n",
    "\n",
    "Another remark is the oddly \"perfect\" distribution  of kilometerage difference across the whole spectrum in the graph from part 5.2. One would expect more small difference and less extreme large differences. It is odd that there are almost exactly the same number of people using their motorcycle very little, moderately, and all the time ... \n",
    "One would expect most people to use a motorcycle periodically, and a smaller number of enthusiasts to use it all the time. \n",
    "This just leaves me to wonder if some sort of tampering has been done with the data to redistribute those kilometerage differences evenly. "
   ]
  },
  {
   "cell_type": "markdown",
   "metadata": {},
   "source": [
    "### Task 6 — 15pts\n",
    "\n",
    "The second hint you receive is: *there is something off with the last digits of the reported kilometrages.*\n",
    "\n",
    "1. Considering the baseline kilometrage of the first motorcycle in each contract (`baseline_motorcycle1`), plot the \n",
    "distribution of occurrences of the last three digits. Repeat the same for the updated kilometrage of the first \n",
    "motorcycle in each contract (`update_motorcycle1`).\n",
    "\n",
    "3. **Discuss:** What are the differences between the two distributions?\n",
    "\n",
    "4. **Discuss:** Hypothesize a **plausible** cause for the patterns observed in the digit distribution of the baseline\n",
    " kilometrage of the first motorcycle.\n",
    "    \n",
    "---\n",
    "\n",
    "**Hint:** The last two digits of the number 12314 are 314. Note that you should consider the three last digits together,\n",
    " not separately!"
   ]
  },
  {
   "cell_type": "markdown",
   "metadata": {},
   "source": [
    "#### Task 6.1: "
   ]
  },
  {
   "cell_type": "markdown",
   "metadata": {},
   "source": [
    "We use the modulo operation to keep only the last three digits"
   ]
  },
  {
   "cell_type": "code",
   "execution_count": 643,
   "metadata": {},
   "outputs": [
    {
     "data": {
      "image/png": "[encoded data removed]",
      "text/plain": [
       "<Figure size 1152x360 with 2 Axes>"
      ]
     },
     "metadata": {
      "needs_background": "light"
     },
     "output_type": "display_data"
    }
   ],
   "source": [
    "fig, ax = plt.subplots(1,2,figsize= (16,5), sharey = True, sharex = True);\n",
    "\n",
    "ax[0].hist(policies.baseline_motorcycle1%1000, bins=30);\n",
    "ax[0].set_title('Baseline kilometerage for motorcycle 1 (last three digits)');\n",
    "ax[1].hist(policies.update_motorcycle1%1000, bins=30);\n",
    "ax[1].set_title('Update kilometerage for motorcycle 1 (last three digits)');\n",
    "fig.text(0.45,0, \"Kilometerage [km] (last three digits)\");\n",
    "fig.text(0.05,0.4, \"Number of contracts\", rotation = 90);"
   ]
  },
  {
   "cell_type": "markdown",
   "metadata": {},
   "source": [
    "#### Task 6.2: \n",
    "The distribution for the baseline is uniform except for a peak value at 000.\\\n",
    "The distribution for the update is uniform."
   ]
  },
  {
   "cell_type": "markdown",
   "metadata": {},
   "source": [
    "#### Task 6.3:  \n",
    "We hypothesize that people have a tendancy to round down their baseline odometer values to obtain a cheaper contract, thus explaining this peak at 0 for the baseline."
   ]
  },
  {
   "cell_type": "markdown",
   "metadata": {},
   "source": [
    "### Task 7 — 15pts\n",
    "\n",
    "The third (and last) hint you receive is: *there is something wrong with the fonts.*\n",
    "\n",
    "Your anonymous source explains that the `.tsv` file sent to you was derived from an Excel sheet. There, some of the rows\n",
    " were written in the font *Helvetica* while others were written in the font *Arial*. Your anonymous source sends you a \n",
    " file with the relation between policy id and the font used in the respective row (`fonts.csv`), and tells you that the\n",
    "  rows with *Helvetica* font were fabricated.\n",
    "\n",
    "1. Load `fonts.csv` and merge the `font` column into your pandas dataframe.\n",
    "2. Considering only the kilometrage of the first motorcycle in each policy, calculate the number of rows with the Arial \n",
    "and the Helvetica font, respectively. Also, plot the distribution of baseline kilometers for rows with the Arial font \n",
    "and for rows with the Helvetica font.\n",
    "3. Similar to what was done in task 6. Plot the distribution of the last three digits for 1) the first motorcycle in \n",
    "each baseline contract (`baseline_motorcycle1`); and 2) the first motorcycle in each updated contract\n",
    " (`update_motorcycle1`).\n",
    "4. **Discuss:** Why do these analyses provide evidence that the rows with Helvetica font were fabricated?\n",
    "\n",
    "---"
   ]
  },
  {
   "cell_type": "markdown",
   "metadata": {},
   "source": [
    "##### Task 7.1 \n",
    "\n",
    "The default merge function will use an inner join, and if we specifcy we want to join on the index values, then the fonts corresponding to index's of extreme values we removed from the policies dataframe will be discarded. "
   ]
  },
  {
   "cell_type": "code",
   "execution_count": 644,
   "metadata": {},
   "outputs": [
    {
     "data": {
      "text/plain": [
       "(13474, 15)"
      ]
     },
     "execution_count": 644,
     "metadata": {},
     "output_type": "execute_result"
    }
   ],
   "source": [
    "policies_and_fonts = policies.merge(fonts, on='id')\n",
    "policies_and_fonts.head()\n",
    "policies_and_fonts.shape"
   ]
  },
  {
   "cell_type": "markdown",
   "metadata": {},
   "source": [
    "##### Task 7.2"
   ]
  },
  {
   "cell_type": "code",
   "execution_count": 645,
   "metadata": {},
   "outputs": [
    {
     "name": "stdout",
     "output_type": "stream",
     "text": [
      "There are 6738 rows written in Arial font and 6736 written in Helvetica font\n"
     ]
    }
   ],
   "source": [
    "num_arial = (policies_and_fonts['font'] == 'Arial').sum()\n",
    "num_helvetica = (policies_and_fonts['font'] == 'Helvetica').sum()\n",
    "print('There are', num_arial, 'rows written in Arial font and', num_helvetica, 'written in Helvetica font')"
   ]
  },
  {
   "cell_type": "markdown",
   "metadata": {},
   "source": [
    "In to better visualize the distribution we choose to restrict the range to 400,000km."
   ]
  },
  {
   "cell_type": "code",
   "execution_count": 646,
   "metadata": {},
   "outputs": [
    {
     "data": {
      "image/png": "[encoded data removed]",
      "text/plain": [
       "<Figure size 1152x432 with 2 Axes>"
      ]
     },
     "metadata": {
      "needs_background": "light"
     },
     "output_type": "display_data"
    }
   ],
   "source": [
    "fig, ax = plt.subplots(1,2,figsize= (16,6), sharey = True, sharex = True)\n",
    "\n",
    "ax[0].hist(policies_and_fonts['baseline_motorcycle1'][policies_and_fonts['font'] == 'Arial'], bins=50, range=[0,400000])\n",
    "ax[0].set_title('Baseline kilometerage for motorcycle 1 using Arial font')\n",
    "ax[1].hist(policies_and_fonts['baseline_motorcycle1'][policies_and_fonts['font'] == 'Helvetica'], bins=50, range=[0,400000])\n",
    "ax[1].set_title('Baseline kilometerage for motorcycle 1 using Helvetica font')\n",
    "\n",
    "fig.text(0.45,0, \"Kilometerage [km]\");\n",
    "fig.text(0,0.3, \"Number of contracts\", rotation = 90);\n",
    "\n"
   ]
  },
  {
   "cell_type": "markdown",
   "metadata": {},
   "source": [
    "##### Task 7.3"
   ]
  },
  {
   "cell_type": "markdown",
   "metadata": {},
   "source": [
    "Use modulo function similarly to for task 6 ..."
   ]
  },
  {
   "cell_type": "code",
   "execution_count": 647,
   "metadata": {},
   "outputs": [
    {
     "data": {
      "image/png": "[encoded data removed]",
      "text/plain": [
       "<Figure size 1152x576 with 4 Axes>"
      ]
     },
     "metadata": {
      "needs_background": "light"
     },
     "output_type": "display_data"
    }
   ],
   "source": [
    "fig, ax = plt.subplots(2,2,figsize= (16,8), sharey = True, sharex = True)\n",
    "\n",
    "ax[0,0].hist(policies_and_fonts['baseline_motorcycle1'][policies_and_fonts['font'] == 'Arial']%1000, bins=50, color='r')\n",
    "ax[0,0].set_title('Baseline kilometerage for motorcycle 1 in Arial font')\n",
    "ax[0,1].hist(policies_and_fonts['update_motorcycle1'][policies_and_fonts['font'] == 'Arial']%1000, bins=50, color='r')\n",
    "ax[0,1].set_title('Updated kilometerage for motorcycle 1 in Arial font')\n",
    "\n",
    "ax[1,0].hist(policies_and_fonts['baseline_motorcycle1'][policies_and_fonts['font'] == 'Helvetica']%1000, bins=50, color='b')\n",
    "ax[1,0].set_title('Baseline kilometerage for motorcycle 1 in Helvetica font')\n",
    "ax[1,1].hist(policies_and_fonts['update_motorcycle1'][policies_and_fonts['font'] == 'Helvetica']%1000, bins=50, color='b')\n",
    "ax[1,1].set_title('Updated kilometerage for motorcycle 1 in Helvetica font')\n",
    "\n",
    "fig.text(0.45,0, \"Kilometerage [km]\");\n",
    "fig.text(0,0.35, \"Number of contracts\", rotation = 90);"
   ]
  },
  {
   "cell_type": "markdown",
   "metadata": {},
   "source": [
    "##### Task 7.4\n",
    "\n",
    "We observe two dishonesties in the data. \n",
    "\n",
    "Firstly, customers will generally tend to lie and provide a baseline kilometerage value that is lower than what the motorcycle has truly covered. \n",
    "Looking at the graphs in task 7.2, we would expect slightly higher values for the first bin to account for brand new motorcycles creating a contract. However, this initial peak is disproportionately higher than the rest of the distribtuion. This leads us to believe that clients who've already used their motorcycle for a small (but non-negligable) distance, prefer to lie and give a tiny (negligable) baseline odometer value to pass off their slightly used motorcycle as brand new. \n",
    "\n",
    "This is confirmed in task 7.3 when we look at the baseline kilometerage for the Arial font. We notice again a disproportionatly high number of contracts report a tiny baseline kilometerage value. This is likely as customers choose to round down their kilometerage readings when writing out the form to shave off a bit of cost from their contract. \n",
    "Perhaps clients will pass this off as a \"reasonable\" approximation to simplify the filling out of the forms, but in truth it is a manipulation of the data, and they are likely well aware that by rounding 50490km down to 50000km, they are saving a bit of money from their contract. \n",
    "The updated kilometerage readings, which are genuine, show a completely random distribution for the last three numbers, which confirms the hypothesis of clients rounding down their baseline kilometerage when filling out the contract forms. \n",
    "\n",
    "\n",
    "\n",
    "The second dishonesty we observe, is with the Arial font data from part 7.3. \n",
    "We explained above that we expect clients to lie and round down their kilometerage readings to save a bit of money on their contracts. This should be the case for both fonts, however we observe that the baseline kilometerage readings for Arial font are completely random. There is absolutely no skew towards small values. \n",
    "It seems very unlikely that customers filling out the form using Arial font magically decided to be honest, the more likely scenario is that a dishonest data analyst manipulated the whole data to redistribute the large peak of small odometer readings across the whole graph spectrum. \n",
    "By re-increasing those last three numbers from the odometer readings, all the contract prices will increase a bit, and the insurance companie will make more money. "
   ]
  },
  {
   "cell_type": "markdown",
   "metadata": {},
   "source": [
    "### Task 8 — 15pts\n",
    "\n",
    "You've had enough! You decide to write an email to your PI (principal investigator, also known as \"your boss\") reporting\n",
    " the oddities you have observed in the data. Write a (brief) text (in markdown) of up to 300 words. Your text should:\n",
    "\n",
    "- Use the analyses you did to make a convincing case that the data has been tampered with. \n",
    "- Grounded in your analyses, provide a plausible hypothesis about how the data has been tampered with.\n",
    "- Discuss whether the data leads to the conclusion that signing at the top decreases dishonesty.\n",
    "\n",
    "Structure your text into three bullets, analogous to the ones above.\n",
    "\n",
    "You can reference images present in the notebook by indicating a task (e.g., image plotted in Task 3.3) or a cell \n",
    "number.\n",
    "\n",
    "Note that you do not need to conduct any additional analysis to write this text. If you do, the code should be at the \n",
    "end of this notebook, i.e., after your answer.\n",
    "\n",
    "---\n",
    "\n",
    "**Hint:** The data has been tampered with in more than one way."
   ]
  },
  {
   "cell_type": "markdown",
   "metadata": {},
   "source": [
    "We found two types of oddities in the data. \n",
    "\n",
    "Firstly, as shown in the graphs from tasks 5.1 and 6.1, people tend to round kilometerage values to small values. \n",
    "This happens in two ways. \n",
    "In task 5.1 we notice that people tend to lower the total kilometerage, and perhaps try to pass off a used motorcycle as brand new in order to lower the insurance cost. \n",
    "In task 6.1, we observe that people round the last three digits of the kilometerage number, to a smaller (zero or near zero) value. Perhaps it is a harmless \"approximation\" for convenience, but it is also possible that it is to shave off a few kilometers and slightly reduce the contract cost. \n",
    "\n",
    "Secondly, in task 7.3, we notice that the above mentioned trend of many people rounding their kilometerage values (to small last three digits) is no longer present in policies written in Helvetica font! \n",
    "It would seem that someone has tampered with the data from policies written in Helvetica font, in order to artificially re-organise the \"small value peak\" throughout the entire distribution, thus slightly increasing all those low numbered kilometerage values.  \n",
    "Perhaps there is some corruption within the company, and an analyst was tasked with slightly increasing all those kilometerage values in order to squeeze a bit more money out of the contract clients. \n",
    "\n",
    "Contrary to the initial hypothesis, we concluded in task 4.3 that signing at the top of the contract increases dishonesty.\n",
    "However, this conclusion should be taken with a grain of salt, as we have previously shown that some of the data has been tampered with, thus potentially invalidating the results. But, as shown below, the tampered helvetica lines are equally spread amongst signed top and bottom policies."
   ]
  },
  {
   "cell_type": "code",
   "execution_count": 648,
   "metadata": {},
   "outputs": [
    {
     "name": "stderr",
     "output_type": "stream",
     "text": [
      "/var/folders/rs/0p3wv8hx60g_0vd_gt_4c7mw0000gn/T/ipykernel_30849/2692301320.py:3: UserWarning: Boolean Series key will be reindexed to match DataFrame index.\n",
      "  num_helvetica_top = policies_and_fonts[policies_and_fonts['font'] == 'Helvetica'][policies_and_fonts['condition'] == 'Sign Top']['id'].count()\n"
     ]
    },
    {
     "data": {
      "text/plain": [
       "0.5048990498812351"
      ]
     },
     "execution_count": 648,
     "metadata": {},
     "output_type": "execute_result"
    }
   ],
   "source": [
    "num_helvetica = (policies_and_fonts['font'] == 'Helvetica').sum()\n",
    "\n",
    "num_helvetica_top = policies_and_fonts[policies_and_fonts['font'] == 'Helvetica'][policies_and_fonts['condition'] == 'Sign Top']['id'].count()\n",
    "\n",
    "prop_helvetica_top = num_helvetica_top / num_helvetica\n",
    "prop_helvetica_top"
   ]
  }
 ],
 "metadata": {
  "kernelspec": {
   "display_name": "Python 3 (ipykernel)",
   "language": "python",
   "name": "python3"
  },
  "language_info": {
   "codemirror_mode": {
    "name": "ipython",
    "version": 3
   },
   "file_extension": ".py",
   "mimetype": "text/x-python",
   "name": "python",
   "nbconvert_exporter": "python",
   "pygments_lexer": "ipython3",
   "version": "3.8.12"
  },
  "pycharm": {
   "stem_cell": {
    "cell_type": "raw",
    "metadata": {
     "collapsed": false
    },
    "source": []
   }
  }
 },
 "nbformat": 4,
 "nbformat_minor": 1
}
